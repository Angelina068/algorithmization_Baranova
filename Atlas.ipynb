{
  "nbformat": 4,
  "nbformat_minor": 0,
  "metadata": {
    "colab": {
      "provenance": [],
      "authorship_tag": "ABX9TyPsgpe5JPFvjeC6WI8qZf2P",
      "include_colab_link": true
    },
    "kernelspec": {
      "name": "python3",
      "display_name": "Python 3"
    },
    "language_info": {
      "name": "python"
    },
    "widgets": {
      "application/vnd.jupyter.widget-state+json": {
        "925aabc30d8744b597600c07b1f0d430": {
          "model_module": "@jupyter-widgets/controls",
          "model_name": "HBoxModel",
          "model_module_version": "1.5.0",
          "state": {
            "_dom_classes": [],
            "_model_module": "@jupyter-widgets/controls",
            "_model_module_version": "1.5.0",
            "_model_name": "HBoxModel",
            "_view_count": null,
            "_view_module": "@jupyter-widgets/controls",
            "_view_module_version": "1.5.0",
            "_view_name": "HBoxView",
            "box_style": "",
            "children": [
              "IPY_MODEL_7c58ea490c494c9595444520795c3b90",
              "IPY_MODEL_102027d517814b9cadeaf463713e32b8",
              "IPY_MODEL_8e1c1221d4a24666a0a218b85e5a37ca"
            ],
            "layout": "IPY_MODEL_95842b05c41848eaa5114161107e2fa2"
          }
        },
        "7c58ea490c494c9595444520795c3b90": {
          "model_module": "@jupyter-widgets/controls",
          "model_name": "HTMLModel",
          "model_module_version": "1.5.0",
          "state": {
            "_dom_classes": [],
            "_model_module": "@jupyter-widgets/controls",
            "_model_module_version": "1.5.0",
            "_model_name": "HTMLModel",
            "_view_count": null,
            "_view_module": "@jupyter-widgets/controls",
            "_view_module_version": "1.5.0",
            "_view_name": "HTMLView",
            "description": "",
            "description_tooltip": null,
            "layout": "IPY_MODEL_8ceefe3493ff42ba900a04443340186a",
            "placeholder": "​",
            "style": "IPY_MODEL_f80e90c917aa4f19b59c7ed56e8f2e44",
            "value": "config.json: 100%"
          }
        },
        "102027d517814b9cadeaf463713e32b8": {
          "model_module": "@jupyter-widgets/controls",
          "model_name": "FloatProgressModel",
          "model_module_version": "1.5.0",
          "state": {
            "_dom_classes": [],
            "_model_module": "@jupyter-widgets/controls",
            "_model_module_version": "1.5.0",
            "_model_name": "FloatProgressModel",
            "_view_count": null,
            "_view_module": "@jupyter-widgets/controls",
            "_view_module_version": "1.5.0",
            "_view_name": "ProgressView",
            "bar_style": "success",
            "description": "",
            "description_tooltip": null,
            "layout": "IPY_MODEL_0451a75f3e204b50b239387fc4b41912",
            "max": 629,
            "min": 0,
            "orientation": "horizontal",
            "style": "IPY_MODEL_f4675880500748ca81dcac9699c259f4",
            "value": 629
          }
        },
        "8e1c1221d4a24666a0a218b85e5a37ca": {
          "model_module": "@jupyter-widgets/controls",
          "model_name": "HTMLModel",
          "model_module_version": "1.5.0",
          "state": {
            "_dom_classes": [],
            "_model_module": "@jupyter-widgets/controls",
            "_model_module_version": "1.5.0",
            "_model_name": "HTMLModel",
            "_view_count": null,
            "_view_module": "@jupyter-widgets/controls",
            "_view_module_version": "1.5.0",
            "_view_name": "HTMLView",
            "description": "",
            "description_tooltip": null,
            "layout": "IPY_MODEL_81f5423ad5494ec1bfb47470a1aa5323",
            "placeholder": "​",
            "style": "IPY_MODEL_ef0e1f120b004b89b27d945332c53621",
            "value": " 629/629 [00:00&lt;00:00, 15.0kB/s]"
          }
        },
        "95842b05c41848eaa5114161107e2fa2": {
          "model_module": "@jupyter-widgets/base",
          "model_name": "LayoutModel",
          "model_module_version": "1.2.0",
          "state": {
            "_model_module": "@jupyter-widgets/base",
            "_model_module_version": "1.2.0",
            "_model_name": "LayoutModel",
            "_view_count": null,
            "_view_module": "@jupyter-widgets/base",
            "_view_module_version": "1.2.0",
            "_view_name": "LayoutView",
            "align_content": null,
            "align_items": null,
            "align_self": null,
            "border": null,
            "bottom": null,
            "display": null,
            "flex": null,
            "flex_flow": null,
            "grid_area": null,
            "grid_auto_columns": null,
            "grid_auto_flow": null,
            "grid_auto_rows": null,
            "grid_column": null,
            "grid_gap": null,
            "grid_row": null,
            "grid_template_areas": null,
            "grid_template_columns": null,
            "grid_template_rows": null,
            "height": null,
            "justify_content": null,
            "justify_items": null,
            "left": null,
            "margin": null,
            "max_height": null,
            "max_width": null,
            "min_height": null,
            "min_width": null,
            "object_fit": null,
            "object_position": null,
            "order": null,
            "overflow": null,
            "overflow_x": null,
            "overflow_y": null,
            "padding": null,
            "right": null,
            "top": null,
            "visibility": null,
            "width": null
          }
        },
        "8ceefe3493ff42ba900a04443340186a": {
          "model_module": "@jupyter-widgets/base",
          "model_name": "LayoutModel",
          "model_module_version": "1.2.0",
          "state": {
            "_model_module": "@jupyter-widgets/base",
            "_model_module_version": "1.2.0",
            "_model_name": "LayoutModel",
            "_view_count": null,
            "_view_module": "@jupyter-widgets/base",
            "_view_module_version": "1.2.0",
            "_view_name": "LayoutView",
            "align_content": null,
            "align_items": null,
            "align_self": null,
            "border": null,
            "bottom": null,
            "display": null,
            "flex": null,
            "flex_flow": null,
            "grid_area": null,
            "grid_auto_columns": null,
            "grid_auto_flow": null,
            "grid_auto_rows": null,
            "grid_column": null,
            "grid_gap": null,
            "grid_row": null,
            "grid_template_areas": null,
            "grid_template_columns": null,
            "grid_template_rows": null,
            "height": null,
            "justify_content": null,
            "justify_items": null,
            "left": null,
            "margin": null,
            "max_height": null,
            "max_width": null,
            "min_height": null,
            "min_width": null,
            "object_fit": null,
            "object_position": null,
            "order": null,
            "overflow": null,
            "overflow_x": null,
            "overflow_y": null,
            "padding": null,
            "right": null,
            "top": null,
            "visibility": null,
            "width": null
          }
        },
        "f80e90c917aa4f19b59c7ed56e8f2e44": {
          "model_module": "@jupyter-widgets/controls",
          "model_name": "DescriptionStyleModel",
          "model_module_version": "1.5.0",
          "state": {
            "_model_module": "@jupyter-widgets/controls",
            "_model_module_version": "1.5.0",
            "_model_name": "DescriptionStyleModel",
            "_view_count": null,
            "_view_module": "@jupyter-widgets/base",
            "_view_module_version": "1.2.0",
            "_view_name": "StyleView",
            "description_width": ""
          }
        },
        "0451a75f3e204b50b239387fc4b41912": {
          "model_module": "@jupyter-widgets/base",
          "model_name": "LayoutModel",
          "model_module_version": "1.2.0",
          "state": {
            "_model_module": "@jupyter-widgets/base",
            "_model_module_version": "1.2.0",
            "_model_name": "LayoutModel",
            "_view_count": null,
            "_view_module": "@jupyter-widgets/base",
            "_view_module_version": "1.2.0",
            "_view_name": "LayoutView",
            "align_content": null,
            "align_items": null,
            "align_self": null,
            "border": null,
            "bottom": null,
            "display": null,
            "flex": null,
            "flex_flow": null,
            "grid_area": null,
            "grid_auto_columns": null,
            "grid_auto_flow": null,
            "grid_auto_rows": null,
            "grid_column": null,
            "grid_gap": null,
            "grid_row": null,
            "grid_template_areas": null,
            "grid_template_columns": null,
            "grid_template_rows": null,
            "height": null,
            "justify_content": null,
            "justify_items": null,
            "left": null,
            "margin": null,
            "max_height": null,
            "max_width": null,
            "min_height": null,
            "min_width": null,
            "object_fit": null,
            "object_position": null,
            "order": null,
            "overflow": null,
            "overflow_x": null,
            "overflow_y": null,
            "padding": null,
            "right": null,
            "top": null,
            "visibility": null,
            "width": null
          }
        },
        "f4675880500748ca81dcac9699c259f4": {
          "model_module": "@jupyter-widgets/controls",
          "model_name": "ProgressStyleModel",
          "model_module_version": "1.5.0",
          "state": {
            "_model_module": "@jupyter-widgets/controls",
            "_model_module_version": "1.5.0",
            "_model_name": "ProgressStyleModel",
            "_view_count": null,
            "_view_module": "@jupyter-widgets/base",
            "_view_module_version": "1.2.0",
            "_view_name": "StyleView",
            "bar_color": null,
            "description_width": ""
          }
        },
        "81f5423ad5494ec1bfb47470a1aa5323": {
          "model_module": "@jupyter-widgets/base",
          "model_name": "LayoutModel",
          "model_module_version": "1.2.0",
          "state": {
            "_model_module": "@jupyter-widgets/base",
            "_model_module_version": "1.2.0",
            "_model_name": "LayoutModel",
            "_view_count": null,
            "_view_module": "@jupyter-widgets/base",
            "_view_module_version": "1.2.0",
            "_view_name": "LayoutView",
            "align_content": null,
            "align_items": null,
            "align_self": null,
            "border": null,
            "bottom": null,
            "display": null,
            "flex": null,
            "flex_flow": null,
            "grid_area": null,
            "grid_auto_columns": null,
            "grid_auto_flow": null,
            "grid_auto_rows": null,
            "grid_column": null,
            "grid_gap": null,
            "grid_row": null,
            "grid_template_areas": null,
            "grid_template_columns": null,
            "grid_template_rows": null,
            "height": null,
            "justify_content": null,
            "justify_items": null,
            "left": null,
            "margin": null,
            "max_height": null,
            "max_width": null,
            "min_height": null,
            "min_width": null,
            "object_fit": null,
            "object_position": null,
            "order": null,
            "overflow": null,
            "overflow_x": null,
            "overflow_y": null,
            "padding": null,
            "right": null,
            "top": null,
            "visibility": null,
            "width": null
          }
        },
        "ef0e1f120b004b89b27d945332c53621": {
          "model_module": "@jupyter-widgets/controls",
          "model_name": "DescriptionStyleModel",
          "model_module_version": "1.5.0",
          "state": {
            "_model_module": "@jupyter-widgets/controls",
            "_model_module_version": "1.5.0",
            "_model_name": "DescriptionStyleModel",
            "_view_count": null,
            "_view_module": "@jupyter-widgets/base",
            "_view_module_version": "1.2.0",
            "_view_name": "StyleView",
            "description_width": ""
          }
        },
        "aba6f42e8b8943a68a84ce2ec3d6fb5a": {
          "model_module": "@jupyter-widgets/controls",
          "model_name": "HBoxModel",
          "model_module_version": "1.5.0",
          "state": {
            "_dom_classes": [],
            "_model_module": "@jupyter-widgets/controls",
            "_model_module_version": "1.5.0",
            "_model_name": "HBoxModel",
            "_view_count": null,
            "_view_module": "@jupyter-widgets/controls",
            "_view_module_version": "1.5.0",
            "_view_name": "HBoxView",
            "box_style": "",
            "children": [
              "IPY_MODEL_894ce6881c774f7f859f1a52d465828e",
              "IPY_MODEL_1e28cae9d18a4f71954632502c46c388",
              "IPY_MODEL_621dbe47f51e473895074250943f3452"
            ],
            "layout": "IPY_MODEL_919df61f52484cda86dd7240dae1b0d6"
          }
        },
        "894ce6881c774f7f859f1a52d465828e": {
          "model_module": "@jupyter-widgets/controls",
          "model_name": "HTMLModel",
          "model_module_version": "1.5.0",
          "state": {
            "_dom_classes": [],
            "_model_module": "@jupyter-widgets/controls",
            "_model_module_version": "1.5.0",
            "_model_name": "HTMLModel",
            "_view_count": null,
            "_view_module": "@jupyter-widgets/controls",
            "_view_module_version": "1.5.0",
            "_view_name": "HTMLView",
            "description": "",
            "description_tooltip": null,
            "layout": "IPY_MODEL_1ba1fff1f8444a60a483132dd2cea3cc",
            "placeholder": "​",
            "style": "IPY_MODEL_2686e7f9719d4f65aa5cabeebdff590d",
            "value": "model.safetensors: 100%"
          }
        },
        "1e28cae9d18a4f71954632502c46c388": {
          "model_module": "@jupyter-widgets/controls",
          "model_name": "FloatProgressModel",
          "model_module_version": "1.5.0",
          "state": {
            "_dom_classes": [],
            "_model_module": "@jupyter-widgets/controls",
            "_model_module_version": "1.5.0",
            "_model_name": "FloatProgressModel",
            "_view_count": null,
            "_view_module": "@jupyter-widgets/controls",
            "_view_module_version": "1.5.0",
            "_view_name": "ProgressView",
            "bar_style": "success",
            "description": "",
            "description_tooltip": null,
            "layout": "IPY_MODEL_3cd287ea6b5345e6843a3bda17bee487",
            "max": 267832558,
            "min": 0,
            "orientation": "horizontal",
            "style": "IPY_MODEL_e2ecb784f65f4a6e81aec4bafc864697",
            "value": 267832558
          }
        },
        "621dbe47f51e473895074250943f3452": {
          "model_module": "@jupyter-widgets/controls",
          "model_name": "HTMLModel",
          "model_module_version": "1.5.0",
          "state": {
            "_dom_classes": [],
            "_model_module": "@jupyter-widgets/controls",
            "_model_module_version": "1.5.0",
            "_model_name": "HTMLModel",
            "_view_count": null,
            "_view_module": "@jupyter-widgets/controls",
            "_view_module_version": "1.5.0",
            "_view_name": "HTMLView",
            "description": "",
            "description_tooltip": null,
            "layout": "IPY_MODEL_6216dbf808ec49f98a7f77435bd446b4",
            "placeholder": "​",
            "style": "IPY_MODEL_f48211cdb9e744b692b1560eb042cdce",
            "value": " 268M/268M [00:02&lt;00:00, 138MB/s]"
          }
        },
        "919df61f52484cda86dd7240dae1b0d6": {
          "model_module": "@jupyter-widgets/base",
          "model_name": "LayoutModel",
          "model_module_version": "1.2.0",
          "state": {
            "_model_module": "@jupyter-widgets/base",
            "_model_module_version": "1.2.0",
            "_model_name": "LayoutModel",
            "_view_count": null,
            "_view_module": "@jupyter-widgets/base",
            "_view_module_version": "1.2.0",
            "_view_name": "LayoutView",
            "align_content": null,
            "align_items": null,
            "align_self": null,
            "border": null,
            "bottom": null,
            "display": null,
            "flex": null,
            "flex_flow": null,
            "grid_area": null,
            "grid_auto_columns": null,
            "grid_auto_flow": null,
            "grid_auto_rows": null,
            "grid_column": null,
            "grid_gap": null,
            "grid_row": null,
            "grid_template_areas": null,
            "grid_template_columns": null,
            "grid_template_rows": null,
            "height": null,
            "justify_content": null,
            "justify_items": null,
            "left": null,
            "margin": null,
            "max_height": null,
            "max_width": null,
            "min_height": null,
            "min_width": null,
            "object_fit": null,
            "object_position": null,
            "order": null,
            "overflow": null,
            "overflow_x": null,
            "overflow_y": null,
            "padding": null,
            "right": null,
            "top": null,
            "visibility": null,
            "width": null
          }
        },
        "1ba1fff1f8444a60a483132dd2cea3cc": {
          "model_module": "@jupyter-widgets/base",
          "model_name": "LayoutModel",
          "model_module_version": "1.2.0",
          "state": {
            "_model_module": "@jupyter-widgets/base",
            "_model_module_version": "1.2.0",
            "_model_name": "LayoutModel",
            "_view_count": null,
            "_view_module": "@jupyter-widgets/base",
            "_view_module_version": "1.2.0",
            "_view_name": "LayoutView",
            "align_content": null,
            "align_items": null,
            "align_self": null,
            "border": null,
            "bottom": null,
            "display": null,
            "flex": null,
            "flex_flow": null,
            "grid_area": null,
            "grid_auto_columns": null,
            "grid_auto_flow": null,
            "grid_auto_rows": null,
            "grid_column": null,
            "grid_gap": null,
            "grid_row": null,
            "grid_template_areas": null,
            "grid_template_columns": null,
            "grid_template_rows": null,
            "height": null,
            "justify_content": null,
            "justify_items": null,
            "left": null,
            "margin": null,
            "max_height": null,
            "max_width": null,
            "min_height": null,
            "min_width": null,
            "object_fit": null,
            "object_position": null,
            "order": null,
            "overflow": null,
            "overflow_x": null,
            "overflow_y": null,
            "padding": null,
            "right": null,
            "top": null,
            "visibility": null,
            "width": null
          }
        },
        "2686e7f9719d4f65aa5cabeebdff590d": {
          "model_module": "@jupyter-widgets/controls",
          "model_name": "DescriptionStyleModel",
          "model_module_version": "1.5.0",
          "state": {
            "_model_module": "@jupyter-widgets/controls",
            "_model_module_version": "1.5.0",
            "_model_name": "DescriptionStyleModel",
            "_view_count": null,
            "_view_module": "@jupyter-widgets/base",
            "_view_module_version": "1.2.0",
            "_view_name": "StyleView",
            "description_width": ""
          }
        },
        "3cd287ea6b5345e6843a3bda17bee487": {
          "model_module": "@jupyter-widgets/base",
          "model_name": "LayoutModel",
          "model_module_version": "1.2.0",
          "state": {
            "_model_module": "@jupyter-widgets/base",
            "_model_module_version": "1.2.0",
            "_model_name": "LayoutModel",
            "_view_count": null,
            "_view_module": "@jupyter-widgets/base",
            "_view_module_version": "1.2.0",
            "_view_name": "LayoutView",
            "align_content": null,
            "align_items": null,
            "align_self": null,
            "border": null,
            "bottom": null,
            "display": null,
            "flex": null,
            "flex_flow": null,
            "grid_area": null,
            "grid_auto_columns": null,
            "grid_auto_flow": null,
            "grid_auto_rows": null,
            "grid_column": null,
            "grid_gap": null,
            "grid_row": null,
            "grid_template_areas": null,
            "grid_template_columns": null,
            "grid_template_rows": null,
            "height": null,
            "justify_content": null,
            "justify_items": null,
            "left": null,
            "margin": null,
            "max_height": null,
            "max_width": null,
            "min_height": null,
            "min_width": null,
            "object_fit": null,
            "object_position": null,
            "order": null,
            "overflow": null,
            "overflow_x": null,
            "overflow_y": null,
            "padding": null,
            "right": null,
            "top": null,
            "visibility": null,
            "width": null
          }
        },
        "e2ecb784f65f4a6e81aec4bafc864697": {
          "model_module": "@jupyter-widgets/controls",
          "model_name": "ProgressStyleModel",
          "model_module_version": "1.5.0",
          "state": {
            "_model_module": "@jupyter-widgets/controls",
            "_model_module_version": "1.5.0",
            "_model_name": "ProgressStyleModel",
            "_view_count": null,
            "_view_module": "@jupyter-widgets/base",
            "_view_module_version": "1.2.0",
            "_view_name": "StyleView",
            "bar_color": null,
            "description_width": ""
          }
        },
        "6216dbf808ec49f98a7f77435bd446b4": {
          "model_module": "@jupyter-widgets/base",
          "model_name": "LayoutModel",
          "model_module_version": "1.2.0",
          "state": {
            "_model_module": "@jupyter-widgets/base",
            "_model_module_version": "1.2.0",
            "_model_name": "LayoutModel",
            "_view_count": null,
            "_view_module": "@jupyter-widgets/base",
            "_view_module_version": "1.2.0",
            "_view_name": "LayoutView",
            "align_content": null,
            "align_items": null,
            "align_self": null,
            "border": null,
            "bottom": null,
            "display": null,
            "flex": null,
            "flex_flow": null,
            "grid_area": null,
            "grid_auto_columns": null,
            "grid_auto_flow": null,
            "grid_auto_rows": null,
            "grid_column": null,
            "grid_gap": null,
            "grid_row": null,
            "grid_template_areas": null,
            "grid_template_columns": null,
            "grid_template_rows": null,
            "height": null,
            "justify_content": null,
            "justify_items": null,
            "left": null,
            "margin": null,
            "max_height": null,
            "max_width": null,
            "min_height": null,
            "min_width": null,
            "object_fit": null,
            "object_position": null,
            "order": null,
            "overflow": null,
            "overflow_x": null,
            "overflow_y": null,
            "padding": null,
            "right": null,
            "top": null,
            "visibility": null,
            "width": null
          }
        },
        "f48211cdb9e744b692b1560eb042cdce": {
          "model_module": "@jupyter-widgets/controls",
          "model_name": "DescriptionStyleModel",
          "model_module_version": "1.5.0",
          "state": {
            "_model_module": "@jupyter-widgets/controls",
            "_model_module_version": "1.5.0",
            "_model_name": "DescriptionStyleModel",
            "_view_count": null,
            "_view_module": "@jupyter-widgets/base",
            "_view_module_version": "1.2.0",
            "_view_name": "StyleView",
            "description_width": ""
          }
        },
        "aa6c190ac1f141ee90d7ac4d6dc45002": {
          "model_module": "@jupyter-widgets/controls",
          "model_name": "HBoxModel",
          "model_module_version": "1.5.0",
          "state": {
            "_dom_classes": [],
            "_model_module": "@jupyter-widgets/controls",
            "_model_module_version": "1.5.0",
            "_model_name": "HBoxModel",
            "_view_count": null,
            "_view_module": "@jupyter-widgets/controls",
            "_view_module_version": "1.5.0",
            "_view_name": "HBoxView",
            "box_style": "",
            "children": [
              "IPY_MODEL_ce6a4b93f2b940cfa49e68b207128baf",
              "IPY_MODEL_9519e105414845c18e45c328570858a9",
              "IPY_MODEL_99b0d02bcd2047e0a7e058ff592a6b8b"
            ],
            "layout": "IPY_MODEL_cf5d060c7d874ee5ad126fdfa6bb78c9"
          }
        },
        "ce6a4b93f2b940cfa49e68b207128baf": {
          "model_module": "@jupyter-widgets/controls",
          "model_name": "HTMLModel",
          "model_module_version": "1.5.0",
          "state": {
            "_dom_classes": [],
            "_model_module": "@jupyter-widgets/controls",
            "_model_module_version": "1.5.0",
            "_model_name": "HTMLModel",
            "_view_count": null,
            "_view_module": "@jupyter-widgets/controls",
            "_view_module_version": "1.5.0",
            "_view_name": "HTMLView",
            "description": "",
            "description_tooltip": null,
            "layout": "IPY_MODEL_c86eba37f9ad4f2e8b090b830cd253f3",
            "placeholder": "​",
            "style": "IPY_MODEL_419f150fa8744af99b5671c6c2a72267",
            "value": "tokenizer_config.json: 100%"
          }
        },
        "9519e105414845c18e45c328570858a9": {
          "model_module": "@jupyter-widgets/controls",
          "model_name": "FloatProgressModel",
          "model_module_version": "1.5.0",
          "state": {
            "_dom_classes": [],
            "_model_module": "@jupyter-widgets/controls",
            "_model_module_version": "1.5.0",
            "_model_name": "FloatProgressModel",
            "_view_count": null,
            "_view_module": "@jupyter-widgets/controls",
            "_view_module_version": "1.5.0",
            "_view_name": "ProgressView",
            "bar_style": "success",
            "description": "",
            "description_tooltip": null,
            "layout": "IPY_MODEL_a09763bff838409c863fe1625e5c33b1",
            "max": 48,
            "min": 0,
            "orientation": "horizontal",
            "style": "IPY_MODEL_7fbf2b041dd440268ccb179c8ee74a67",
            "value": 48
          }
        },
        "99b0d02bcd2047e0a7e058ff592a6b8b": {
          "model_module": "@jupyter-widgets/controls",
          "model_name": "HTMLModel",
          "model_module_version": "1.5.0",
          "state": {
            "_dom_classes": [],
            "_model_module": "@jupyter-widgets/controls",
            "_model_module_version": "1.5.0",
            "_model_name": "HTMLModel",
            "_view_count": null,
            "_view_module": "@jupyter-widgets/controls",
            "_view_module_version": "1.5.0",
            "_view_name": "HTMLView",
            "description": "",
            "description_tooltip": null,
            "layout": "IPY_MODEL_ea535e8fc2c9449795d4d5ccd40bfdc3",
            "placeholder": "​",
            "style": "IPY_MODEL_20199b8bc7f54f17804aae2d66586e02",
            "value": " 48.0/48.0 [00:00&lt;00:00, 2.75kB/s]"
          }
        },
        "cf5d060c7d874ee5ad126fdfa6bb78c9": {
          "model_module": "@jupyter-widgets/base",
          "model_name": "LayoutModel",
          "model_module_version": "1.2.0",
          "state": {
            "_model_module": "@jupyter-widgets/base",
            "_model_module_version": "1.2.0",
            "_model_name": "LayoutModel",
            "_view_count": null,
            "_view_module": "@jupyter-widgets/base",
            "_view_module_version": "1.2.0",
            "_view_name": "LayoutView",
            "align_content": null,
            "align_items": null,
            "align_self": null,
            "border": null,
            "bottom": null,
            "display": null,
            "flex": null,
            "flex_flow": null,
            "grid_area": null,
            "grid_auto_columns": null,
            "grid_auto_flow": null,
            "grid_auto_rows": null,
            "grid_column": null,
            "grid_gap": null,
            "grid_row": null,
            "grid_template_areas": null,
            "grid_template_columns": null,
            "grid_template_rows": null,
            "height": null,
            "justify_content": null,
            "justify_items": null,
            "left": null,
            "margin": null,
            "max_height": null,
            "max_width": null,
            "min_height": null,
            "min_width": null,
            "object_fit": null,
            "object_position": null,
            "order": null,
            "overflow": null,
            "overflow_x": null,
            "overflow_y": null,
            "padding": null,
            "right": null,
            "top": null,
            "visibility": null,
            "width": null
          }
        },
        "c86eba37f9ad4f2e8b090b830cd253f3": {
          "model_module": "@jupyter-widgets/base",
          "model_name": "LayoutModel",
          "model_module_version": "1.2.0",
          "state": {
            "_model_module": "@jupyter-widgets/base",
            "_model_module_version": "1.2.0",
            "_model_name": "LayoutModel",
            "_view_count": null,
            "_view_module": "@jupyter-widgets/base",
            "_view_module_version": "1.2.0",
            "_view_name": "LayoutView",
            "align_content": null,
            "align_items": null,
            "align_self": null,
            "border": null,
            "bottom": null,
            "display": null,
            "flex": null,
            "flex_flow": null,
            "grid_area": null,
            "grid_auto_columns": null,
            "grid_auto_flow": null,
            "grid_auto_rows": null,
            "grid_column": null,
            "grid_gap": null,
            "grid_row": null,
            "grid_template_areas": null,
            "grid_template_columns": null,
            "grid_template_rows": null,
            "height": null,
            "justify_content": null,
            "justify_items": null,
            "left": null,
            "margin": null,
            "max_height": null,
            "max_width": null,
            "min_height": null,
            "min_width": null,
            "object_fit": null,
            "object_position": null,
            "order": null,
            "overflow": null,
            "overflow_x": null,
            "overflow_y": null,
            "padding": null,
            "right": null,
            "top": null,
            "visibility": null,
            "width": null
          }
        },
        "419f150fa8744af99b5671c6c2a72267": {
          "model_module": "@jupyter-widgets/controls",
          "model_name": "DescriptionStyleModel",
          "model_module_version": "1.5.0",
          "state": {
            "_model_module": "@jupyter-widgets/controls",
            "_model_module_version": "1.5.0",
            "_model_name": "DescriptionStyleModel",
            "_view_count": null,
            "_view_module": "@jupyter-widgets/base",
            "_view_module_version": "1.2.0",
            "_view_name": "StyleView",
            "description_width": ""
          }
        },
        "a09763bff838409c863fe1625e5c33b1": {
          "model_module": "@jupyter-widgets/base",
          "model_name": "LayoutModel",
          "model_module_version": "1.2.0",
          "state": {
            "_model_module": "@jupyter-widgets/base",
            "_model_module_version": "1.2.0",
            "_model_name": "LayoutModel",
            "_view_count": null,
            "_view_module": "@jupyter-widgets/base",
            "_view_module_version": "1.2.0",
            "_view_name": "LayoutView",
            "align_content": null,
            "align_items": null,
            "align_self": null,
            "border": null,
            "bottom": null,
            "display": null,
            "flex": null,
            "flex_flow": null,
            "grid_area": null,
            "grid_auto_columns": null,
            "grid_auto_flow": null,
            "grid_auto_rows": null,
            "grid_column": null,
            "grid_gap": null,
            "grid_row": null,
            "grid_template_areas": null,
            "grid_template_columns": null,
            "grid_template_rows": null,
            "height": null,
            "justify_content": null,
            "justify_items": null,
            "left": null,
            "margin": null,
            "max_height": null,
            "max_width": null,
            "min_height": null,
            "min_width": null,
            "object_fit": null,
            "object_position": null,
            "order": null,
            "overflow": null,
            "overflow_x": null,
            "overflow_y": null,
            "padding": null,
            "right": null,
            "top": null,
            "visibility": null,
            "width": null
          }
        },
        "7fbf2b041dd440268ccb179c8ee74a67": {
          "model_module": "@jupyter-widgets/controls",
          "model_name": "ProgressStyleModel",
          "model_module_version": "1.5.0",
          "state": {
            "_model_module": "@jupyter-widgets/controls",
            "_model_module_version": "1.5.0",
            "_model_name": "ProgressStyleModel",
            "_view_count": null,
            "_view_module": "@jupyter-widgets/base",
            "_view_module_version": "1.2.0",
            "_view_name": "StyleView",
            "bar_color": null,
            "description_width": ""
          }
        },
        "ea535e8fc2c9449795d4d5ccd40bfdc3": {
          "model_module": "@jupyter-widgets/base",
          "model_name": "LayoutModel",
          "model_module_version": "1.2.0",
          "state": {
            "_model_module": "@jupyter-widgets/base",
            "_model_module_version": "1.2.0",
            "_model_name": "LayoutModel",
            "_view_count": null,
            "_view_module": "@jupyter-widgets/base",
            "_view_module_version": "1.2.0",
            "_view_name": "LayoutView",
            "align_content": null,
            "align_items": null,
            "align_self": null,
            "border": null,
            "bottom": null,
            "display": null,
            "flex": null,
            "flex_flow": null,
            "grid_area": null,
            "grid_auto_columns": null,
            "grid_auto_flow": null,
            "grid_auto_rows": null,
            "grid_column": null,
            "grid_gap": null,
            "grid_row": null,
            "grid_template_areas": null,
            "grid_template_columns": null,
            "grid_template_rows": null,
            "height": null,
            "justify_content": null,
            "justify_items": null,
            "left": null,
            "margin": null,
            "max_height": null,
            "max_width": null,
            "min_height": null,
            "min_width": null,
            "object_fit": null,
            "object_position": null,
            "order": null,
            "overflow": null,
            "overflow_x": null,
            "overflow_y": null,
            "padding": null,
            "right": null,
            "top": null,
            "visibility": null,
            "width": null
          }
        },
        "20199b8bc7f54f17804aae2d66586e02": {
          "model_module": "@jupyter-widgets/controls",
          "model_name": "DescriptionStyleModel",
          "model_module_version": "1.5.0",
          "state": {
            "_model_module": "@jupyter-widgets/controls",
            "_model_module_version": "1.5.0",
            "_model_name": "DescriptionStyleModel",
            "_view_count": null,
            "_view_module": "@jupyter-widgets/base",
            "_view_module_version": "1.2.0",
            "_view_name": "StyleView",
            "description_width": ""
          }
        },
        "33a98ef6355f4af38c2d8087a5841e8f": {
          "model_module": "@jupyter-widgets/controls",
          "model_name": "HBoxModel",
          "model_module_version": "1.5.0",
          "state": {
            "_dom_classes": [],
            "_model_module": "@jupyter-widgets/controls",
            "_model_module_version": "1.5.0",
            "_model_name": "HBoxModel",
            "_view_count": null,
            "_view_module": "@jupyter-widgets/controls",
            "_view_module_version": "1.5.0",
            "_view_name": "HBoxView",
            "box_style": "",
            "children": [
              "IPY_MODEL_7e4410f1357c4aa486dd86e8044b0f96",
              "IPY_MODEL_7f7278cc259b405b9f07ed6daf6de5ff",
              "IPY_MODEL_83ee70b7088e46cf98954add0176014c"
            ],
            "layout": "IPY_MODEL_391a68fb43f643db8ad0f08bbcfbf452"
          }
        },
        "7e4410f1357c4aa486dd86e8044b0f96": {
          "model_module": "@jupyter-widgets/controls",
          "model_name": "HTMLModel",
          "model_module_version": "1.5.0",
          "state": {
            "_dom_classes": [],
            "_model_module": "@jupyter-widgets/controls",
            "_model_module_version": "1.5.0",
            "_model_name": "HTMLModel",
            "_view_count": null,
            "_view_module": "@jupyter-widgets/controls",
            "_view_module_version": "1.5.0",
            "_view_name": "HTMLView",
            "description": "",
            "description_tooltip": null,
            "layout": "IPY_MODEL_e1ea45827ac44170ab54e17f43225dfc",
            "placeholder": "​",
            "style": "IPY_MODEL_6ff544aedc644a67accfb84a36e261e8",
            "value": "vocab.txt: 100%"
          }
        },
        "7f7278cc259b405b9f07ed6daf6de5ff": {
          "model_module": "@jupyter-widgets/controls",
          "model_name": "FloatProgressModel",
          "model_module_version": "1.5.0",
          "state": {
            "_dom_classes": [],
            "_model_module": "@jupyter-widgets/controls",
            "_model_module_version": "1.5.0",
            "_model_name": "FloatProgressModel",
            "_view_count": null,
            "_view_module": "@jupyter-widgets/controls",
            "_view_module_version": "1.5.0",
            "_view_name": "ProgressView",
            "bar_style": "success",
            "description": "",
            "description_tooltip": null,
            "layout": "IPY_MODEL_2a570efc181d48278048a05e116ae4af",
            "max": 231508,
            "min": 0,
            "orientation": "horizontal",
            "style": "IPY_MODEL_c0b4c3b7746f441c8f1117ebd1e03803",
            "value": 231508
          }
        },
        "83ee70b7088e46cf98954add0176014c": {
          "model_module": "@jupyter-widgets/controls",
          "model_name": "HTMLModel",
          "model_module_version": "1.5.0",
          "state": {
            "_dom_classes": [],
            "_model_module": "@jupyter-widgets/controls",
            "_model_module_version": "1.5.0",
            "_model_name": "HTMLModel",
            "_view_count": null,
            "_view_module": "@jupyter-widgets/controls",
            "_view_module_version": "1.5.0",
            "_view_name": "HTMLView",
            "description": "",
            "description_tooltip": null,
            "layout": "IPY_MODEL_1cbe31d11b1d4f9a833abb39873bc438",
            "placeholder": "​",
            "style": "IPY_MODEL_6194cfe162944c8f9ef82a46fa2d433f",
            "value": " 232k/232k [00:00&lt;00:00, 3.02MB/s]"
          }
        },
        "391a68fb43f643db8ad0f08bbcfbf452": {
          "model_module": "@jupyter-widgets/base",
          "model_name": "LayoutModel",
          "model_module_version": "1.2.0",
          "state": {
            "_model_module": "@jupyter-widgets/base",
            "_model_module_version": "1.2.0",
            "_model_name": "LayoutModel",
            "_view_count": null,
            "_view_module": "@jupyter-widgets/base",
            "_view_module_version": "1.2.0",
            "_view_name": "LayoutView",
            "align_content": null,
            "align_items": null,
            "align_self": null,
            "border": null,
            "bottom": null,
            "display": null,
            "flex": null,
            "flex_flow": null,
            "grid_area": null,
            "grid_auto_columns": null,
            "grid_auto_flow": null,
            "grid_auto_rows": null,
            "grid_column": null,
            "grid_gap": null,
            "grid_row": null,
            "grid_template_areas": null,
            "grid_template_columns": null,
            "grid_template_rows": null,
            "height": null,
            "justify_content": null,
            "justify_items": null,
            "left": null,
            "margin": null,
            "max_height": null,
            "max_width": null,
            "min_height": null,
            "min_width": null,
            "object_fit": null,
            "object_position": null,
            "order": null,
            "overflow": null,
            "overflow_x": null,
            "overflow_y": null,
            "padding": null,
            "right": null,
            "top": null,
            "visibility": null,
            "width": null
          }
        },
        "e1ea45827ac44170ab54e17f43225dfc": {
          "model_module": "@jupyter-widgets/base",
          "model_name": "LayoutModel",
          "model_module_version": "1.2.0",
          "state": {
            "_model_module": "@jupyter-widgets/base",
            "_model_module_version": "1.2.0",
            "_model_name": "LayoutModel",
            "_view_count": null,
            "_view_module": "@jupyter-widgets/base",
            "_view_module_version": "1.2.0",
            "_view_name": "LayoutView",
            "align_content": null,
            "align_items": null,
            "align_self": null,
            "border": null,
            "bottom": null,
            "display": null,
            "flex": null,
            "flex_flow": null,
            "grid_area": null,
            "grid_auto_columns": null,
            "grid_auto_flow": null,
            "grid_auto_rows": null,
            "grid_column": null,
            "grid_gap": null,
            "grid_row": null,
            "grid_template_areas": null,
            "grid_template_columns": null,
            "grid_template_rows": null,
            "height": null,
            "justify_content": null,
            "justify_items": null,
            "left": null,
            "margin": null,
            "max_height": null,
            "max_width": null,
            "min_height": null,
            "min_width": null,
            "object_fit": null,
            "object_position": null,
            "order": null,
            "overflow": null,
            "overflow_x": null,
            "overflow_y": null,
            "padding": null,
            "right": null,
            "top": null,
            "visibility": null,
            "width": null
          }
        },
        "6ff544aedc644a67accfb84a36e261e8": {
          "model_module": "@jupyter-widgets/controls",
          "model_name": "DescriptionStyleModel",
          "model_module_version": "1.5.0",
          "state": {
            "_model_module": "@jupyter-widgets/controls",
            "_model_module_version": "1.5.0",
            "_model_name": "DescriptionStyleModel",
            "_view_count": null,
            "_view_module": "@jupyter-widgets/base",
            "_view_module_version": "1.2.0",
            "_view_name": "StyleView",
            "description_width": ""
          }
        },
        "2a570efc181d48278048a05e116ae4af": {
          "model_module": "@jupyter-widgets/base",
          "model_name": "LayoutModel",
          "model_module_version": "1.2.0",
          "state": {
            "_model_module": "@jupyter-widgets/base",
            "_model_module_version": "1.2.0",
            "_model_name": "LayoutModel",
            "_view_count": null,
            "_view_module": "@jupyter-widgets/base",
            "_view_module_version": "1.2.0",
            "_view_name": "LayoutView",
            "align_content": null,
            "align_items": null,
            "align_self": null,
            "border": null,
            "bottom": null,
            "display": null,
            "flex": null,
            "flex_flow": null,
            "grid_area": null,
            "grid_auto_columns": null,
            "grid_auto_flow": null,
            "grid_auto_rows": null,
            "grid_column": null,
            "grid_gap": null,
            "grid_row": null,
            "grid_template_areas": null,
            "grid_template_columns": null,
            "grid_template_rows": null,
            "height": null,
            "justify_content": null,
            "justify_items": null,
            "left": null,
            "margin": null,
            "max_height": null,
            "max_width": null,
            "min_height": null,
            "min_width": null,
            "object_fit": null,
            "object_position": null,
            "order": null,
            "overflow": null,
            "overflow_x": null,
            "overflow_y": null,
            "padding": null,
            "right": null,
            "top": null,
            "visibility": null,
            "width": null
          }
        },
        "c0b4c3b7746f441c8f1117ebd1e03803": {
          "model_module": "@jupyter-widgets/controls",
          "model_name": "ProgressStyleModel",
          "model_module_version": "1.5.0",
          "state": {
            "_model_module": "@jupyter-widgets/controls",
            "_model_module_version": "1.5.0",
            "_model_name": "ProgressStyleModel",
            "_view_count": null,
            "_view_module": "@jupyter-widgets/base",
            "_view_module_version": "1.2.0",
            "_view_name": "StyleView",
            "bar_color": null,
            "description_width": ""
          }
        },
        "1cbe31d11b1d4f9a833abb39873bc438": {
          "model_module": "@jupyter-widgets/base",
          "model_name": "LayoutModel",
          "model_module_version": "1.2.0",
          "state": {
            "_model_module": "@jupyter-widgets/base",
            "_model_module_version": "1.2.0",
            "_model_name": "LayoutModel",
            "_view_count": null,
            "_view_module": "@jupyter-widgets/base",
            "_view_module_version": "1.2.0",
            "_view_name": "LayoutView",
            "align_content": null,
            "align_items": null,
            "align_self": null,
            "border": null,
            "bottom": null,
            "display": null,
            "flex": null,
            "flex_flow": null,
            "grid_area": null,
            "grid_auto_columns": null,
            "grid_auto_flow": null,
            "grid_auto_rows": null,
            "grid_column": null,
            "grid_gap": null,
            "grid_row": null,
            "grid_template_areas": null,
            "grid_template_columns": null,
            "grid_template_rows": null,
            "height": null,
            "justify_content": null,
            "justify_items": null,
            "left": null,
            "margin": null,
            "max_height": null,
            "max_width": null,
            "min_height": null,
            "min_width": null,
            "object_fit": null,
            "object_position": null,
            "order": null,
            "overflow": null,
            "overflow_x": null,
            "overflow_y": null,
            "padding": null,
            "right": null,
            "top": null,
            "visibility": null,
            "width": null
          }
        },
        "6194cfe162944c8f9ef82a46fa2d433f": {
          "model_module": "@jupyter-widgets/controls",
          "model_name": "DescriptionStyleModel",
          "model_module_version": "1.5.0",
          "state": {
            "_model_module": "@jupyter-widgets/controls",
            "_model_module_version": "1.5.0",
            "_model_name": "DescriptionStyleModel",
            "_view_count": null,
            "_view_module": "@jupyter-widgets/base",
            "_view_module_version": "1.2.0",
            "_view_name": "StyleView",
            "description_width": ""
          }
        }
      }
    }
  },
  "cells": [
    {
      "cell_type": "markdown",
      "metadata": {
        "id": "view-in-github",
        "colab_type": "text"
      },
      "source": [
        "<a href=\"https://colab.research.google.com/github/Angelina068/algorithmization_Baranova/blob/main/Atlas.ipynb\" target=\"_parent\"><img src=\"https://colab.research.google.com/assets/colab-badge.svg\" alt=\"Open In Colab\"/></a>"
      ]
    },
    {
      "cell_type": "markdown",
      "source": [
        "### Доклад на тему: \"Charting and Navigating Hugging Face’s Model Atlas\"\n",
        "\n",
        "#### Введение\n",
        "\n",
        "Hugging Face — это известная платформа, которая предоставляет инструменты и модели для обработки естественного языка (NLP), машинного обучения и искусственного интеллекта. Одной из ключевых функций Hugging Face является Model Atlas, который представляет собой обширную библиотеку моделей, доступных для использования и адаптации. В этом докладе мы рассмотрим, что такое Model Atlas, его структуру, функциональность и как эффективно им пользоваться.\n",
        "\n",
        "#### 1. Что такое Model Atlas?\n",
        "\n",
        "Model Atlas — это централизованный репозиторий, в котором собраны предобученные модели для различных задач машинного обучения. Он позволяет пользователям легко находить, сравнивать и использовать модели, созданные как сообществом, так и исследователями. Hugging Face предлагает модели для таких задач, как:\n",
        "\n",
        "- Обработка текста (классификация, генерация, перевод и т.д.)\n",
        "- Обработка изображений\n",
        "- Обработка аудио\n",
        "- Модели для мультимодальных задач\n",
        "\n",
        "#### 2. Структура Model Atlas\n",
        "\n",
        "Model Atlas организован по категориям, что облегчает навигацию. Основные разделы включают:\n",
        "\n",
        "- **Поиск моделей**: Пользователи могут искать модели по ключевым словам, типам задач или архитектуре.\n",
        "- **Фильтры**: Можно фильтровать модели по метрикам производительности, языкам, типам лицензий и другим критериям.\n",
        "- **Сравнение моделей**: Hugging Face предоставляет возможность сравнения нескольких моделей по различным параметрам, что позволяет выбрать наиболее подходящую для конкретной задачи.\n",
        "  \n",
        "#### 3. Как использовать Model Atlas\n",
        "\n",
        "Использование Model Atlas включает несколько шагов:\n",
        "\n",
        "1. **Поиск модели**: Введите ключевые слова или используйте фильтры для поиска нужной модели.\n",
        "2. **Изучение документации**: Каждая модель сопровождается подробной документацией, включая примеры использования, описание архитектуры и метрики производительности.\n",
        "3. **Интеграция модели**: Модели можно интегрировать в свои проекты с помощью библиотеки Transformers от Hugging Face. Это можно сделать с помощью простых команд в Python.\n",
        "4. **Обучение и дообучение**: Пользователи могут дообучать предобученные модели на своих данных, что позволяет адаптировать их к специфическим задачам.\n",
        "\n",
        "#### 4. Примеры успешного использования\n",
        "\n",
        "Модели из Model Atlas уже успешно применяются в различных областях:\n",
        "\n",
        "- **Автоматизация обработки текстов**: Модели для анализа тональности и классификации текстов помогают компаниям улучшать клиентский сервис.\n",
        "- **Создание чат-ботов**: Модели, такие как GPT и BERT, используются для создания более естественных и интерактивных чат-ботов.\n",
        "- **Медицинские приложения**: Модели, обученные на специализированных данных, помогают в анализе медицинских текстов и улучшении диагностики."
      ],
      "metadata": {
        "id": "sLCuKBnBNGF6"
      }
    },
    {
      "cell_type": "markdown",
      "source": [
        "\n",
        "Поскольку сейчас существуют миллионы общедоступных нейронных сетей, поиск и анализ больших репозиториев моделей\n",
        "становятся все более важными. Для навигации по такому количеству моделей требуется атлас, но поскольку большинство моделей плохо документированы, построение такого атласа является сложной задачей. Чтобы изучить\n",
        "скрытый потенциал репозиториев моделей, мы составляем предварительный атлас, представляющий документированную часть Hugging\n",
        "Face."
      ],
      "metadata": {
        "id": "48QN8km9K6NV"
      }
    },
    {
      "cell_type": "markdown",
      "source": [
        " Введение\n",
        "\n",
        "Навигация по миллионам общедоступных нейронных сетей — сложная задача, которая может быть значительно улучшена с помощью атласа:\n",
        "структурированного представления, фиксирующего, как развиваются модели,\n",
        "какие задачи они решают и насколько хорошо они работают. Такой атлас\n",
        "позволит пользователям легко находить и повторно использовать существующие\n",
        "модели, а не обучать новые с нуля, экономя\n",
        "ресурсы и уменьшая воздействие на окружающую среду. Более того,\n",
        "он может служить моментальным снимком всего ландшафта машинного обучения, облегчая сравнения между методами и\n",
        "модальности и выделяя возникающие тенденции. Рассмотрим метод составления диаграммы этого атласа и демонстрируем его\n",
        "практическую полезность для навигации по большим коллекциям моделей.\n",
        "Чтобы установить неиспользованный потенциал атласов больших\n",
        "хранилищ моделей, сначала наносим на карту задокументированные области\n",
        "Hugging Face (HF). Его визуализации раскрывают интригующие\n",
        "и сложные структуры ландшафта модели машинного обучения. используем эти визуализации для анализа последних тенденций в моделях компьютерного зрения и сравнения их по разным модальностям.  Очевидно, что модели на основе Llama используют более разнообразные методы обучения и динамику, включая квантование и слияние моделей, что приводит к более сложным структурам.\n",
        "Например, улучшаем прогноз метрики\n",
        "TruthfulnessQA моделей, полученных из Mistral-7B,\n",
        "просто наблюдая за их ближайшими соседями в атласе.\n",
        "В действительности, документация модели дает только начальный\n",
        "взгляд на атлас, в то время как полная картина остается неуловимой.\n",
        "Существующие метаданные модели (например, карты моделей  или файлы конфигурации) часто неполны и не содержат критически важных деталей о задаче модели  точности и происхождении. проверив полноту документации HF\n",
        "и обнаружив, что примерно 60% из 1,5 миллиона моделей ее не имеют. Это не ограничивается только узкоспециализированными моделями,\n",
        "например, MobileNet, имеет более 70 миллионов ежемесячных загрузок,\n",
        "но только 5 задокументированных тонких настроек. Следовательно, предыдущие исследования изучали восстановление дерева моделей, представляя модели как узлы, а их связь (например, тонкую настройку) как ребра.\n",
        "Большинство методов используют зондирование или прямую проверку веса, но они, как правило, полагаются на нереалистичные предположения и не масштабируются до реального мира."
      ],
      "metadata": {
        "id": "5tO_BxFYK5Sf"
      }
    },
    {
      "cell_type": "markdown",
      "source": [
        "3. Анализ атласа моделей Hugging Face\n",
        "Атлас M состоит из набора моделей. Каждая модель\n",
        "m ∈ M имеет веса (параметры) w. Он также имеет атрибуты,\n",
        "включая: имя модели, ее время загрузки (t), родителей\n",
        "(P), если они известны, гиперпараметры обучения, производительность на\n",
        "определенных бенчмарках или количество загрузок. Дочерняя модель\n",
        "mch формируется путем преобразования весов родительской\n",
        "модели mpa с помощью таких операций, как тонкая настройка, квантование, обрезка или слияние [3, 40, 41, 47]. Мы обозначаем это добавлением направленного ребра (mpa, mch) к атласу. Модель\n",
        "без родителей называется исходной моделью. Поскольку преобразование веса является причинным, т. е. модель не может быть потомком самой себя, структура атласа представляет собой направленный ациклический граф\n",
        "(DAG). В отличие от предыдущей работы [18, 52], мы не\n",
        "предполагаем, что DAG является деревом, поскольку некоторые модели могут иметь несколько родителей, в частности, слияния. Мы называем каждый связанный\n",
        "компонент в DAG регионом атласа.\n",
        "В этом разделе мы анализируем Hugging Face, крупнейший\n",
        "публичный репозиторий моделей. В настоящее время он размещает более 1,5 миллионов\n",
        "моделей, и каждый месяц добавляется более 100 000 новых моделей,\n",
        "что в общей сложности составляет более 17 ПБ [44] хранилища. Хотя HF поощряет\n",
        "документирование моделей через карты моделей [28], подавляющее\n",
        "большинство из них плохо документировано, и более 50% моделей\n",
        "вообще не имеют карты модели. В частности, HF имеет метки только для 400 000 направленных ребер. Используя эти метки, мы создаем исходный атлас и демонстрируем его перспективы для анализа последних тенденций, измерения воздействия модели, прогнозирования\n",
        "точности модели и других атрибутов. Мы делаем этот атлас\n",
        "публично доступным через интерактивный демонстрационный веб-сайт."
      ],
      "metadata": {
        "id": "MJA22I1ILnG9"
      }
    },
    {
      "cell_type": "markdown",
      "source": [
        "Тонкая настройка против адаптеров. Яркое различие между\n",
        "генеративными и дискриминативными моделями заключается в том, что подавляющее большинство генеративных моделей используют адаптеры (например, LoRA), тогда как\n",
        "почти все дискриминативные модели используют полную тонкую настройку. Атлас также позволяет нам отслеживать, как развиваются тенденции.\n",
        "можем проследить адаптеры с течением времени и увидеть, что они\n",
        "становятся все более распространенными. Например, только 50% старых\n",
        "моделей (таких как SD1.4) используют эффективные по параметрам адаптеры,\n",
        "тогда как в более новых версиях это встречается гораздо чаще."
      ],
      "metadata": {
        "id": "oMfT9gZxLvU9"
      }
    },
    {
      "cell_type": "markdown",
      "source": [
        "Лучшее измерение влияния модели. Существует несколько\n",
        "способов измерения влияния модели. Например,\n",
        "Hugging Face использует лайки, тренды (на основе нераскрытого\n",
        "запатентованного алгоритма) и загрузки. Эти метрики\n",
        "несколько близоруки, поскольку они измеряют прямую популярность\n",
        "моделей, но не популярность их моделей-потомков.\n",
        "На самом деле,анализ графа показывает, что для 50% неконечных\n",
        "узлов общие загрузки их потомков превышают их\n",
        "собственные индивидуальные загрузки. Это частично связано с популярностью квантованных дочерних моделей и постепенным улучшением дочерних моделей, например, тонкой настройкой или слиянием. Наш\n",
        "анализ далее показал, что для неконечных моделей сумма\n",
        "загрузок узлов-потомков превышает таковые у модели, которую она"
      ],
      "metadata": {
        "id": "ohyiulWFMBU9"
      }
    },
    {
      "cell_type": "markdown",
      "source": [
        "Заключение\n",
        "Hugging Face’s Model Atlas представляет собой мощный инструмент для разработчиков и исследователей в области машинного обучения. Он упрощает процесс поиска и использования моделей, предоставляя доступ к разнообразным ресурсам и документации. С помощью Model Atlas можно значительно ускорить разработку приложений и улучшить качество решений в различных областях. Hugging Face продолжает развивать свою платформу, что делает ее незаменимым инструментом в мире ИИ и машинного обучения."
      ],
      "metadata": {
        "id": "UhKUQTgjO25N"
      }
    },
    {
      "cell_type": "markdown",
      "source": [
        "1. Установка библиотеки Transformers"
      ],
      "metadata": {
        "id": "cDAH_INHPGRk"
      }
    },
    {
      "cell_type": "code",
      "source": [
        "pip install transformers"
      ],
      "metadata": {
        "colab": {
          "base_uri": "https://localhost:8080/"
        },
        "id": "B_yVpalTO6RF",
        "outputId": "cef529da-0e7f-4563-e882-c0f450f4335b"
      },
      "execution_count": null,
      "outputs": [
        {
          "output_type": "stream",
          "name": "stdout",
          "text": [
            "Requirement already satisfied: transformers in /usr/local/lib/python3.11/dist-packages (4.48.3)\n",
            "Requirement already satisfied: filelock in /usr/local/lib/python3.11/dist-packages (from transformers) (3.17.0)\n",
            "Requirement already satisfied: huggingface-hub<1.0,>=0.24.0 in /usr/local/lib/python3.11/dist-packages (from transformers) (0.28.1)\n",
            "Requirement already satisfied: numpy>=1.17 in /usr/local/lib/python3.11/dist-packages (from transformers) (1.26.4)\n",
            "Requirement already satisfied: packaging>=20.0 in /usr/local/lib/python3.11/dist-packages (from transformers) (24.2)\n",
            "Requirement already satisfied: pyyaml>=5.1 in /usr/local/lib/python3.11/dist-packages (from transformers) (6.0.2)\n",
            "Requirement already satisfied: regex!=2019.12.17 in /usr/local/lib/python3.11/dist-packages (from transformers) (2024.11.6)\n",
            "Requirement already satisfied: requests in /usr/local/lib/python3.11/dist-packages (from transformers) (2.32.3)\n",
            "Requirement already satisfied: tokenizers<0.22,>=0.21 in /usr/local/lib/python3.11/dist-packages (from transformers) (0.21.0)\n",
            "Requirement already satisfied: safetensors>=0.4.1 in /usr/local/lib/python3.11/dist-packages (from transformers) (0.5.3)\n",
            "Requirement already satisfied: tqdm>=4.27 in /usr/local/lib/python3.11/dist-packages (from transformers) (4.67.1)\n",
            "Requirement already satisfied: fsspec>=2023.5.0 in /usr/local/lib/python3.11/dist-packages (from huggingface-hub<1.0,>=0.24.0->transformers) (2024.10.0)\n",
            "Requirement already satisfied: typing-extensions>=3.7.4.3 in /usr/local/lib/python3.11/dist-packages (from huggingface-hub<1.0,>=0.24.0->transformers) (4.12.2)\n",
            "Requirement already satisfied: charset-normalizer<4,>=2 in /usr/local/lib/python3.11/dist-packages (from requests->transformers) (3.4.1)\n",
            "Requirement already satisfied: idna<4,>=2.5 in /usr/local/lib/python3.11/dist-packages (from requests->transformers) (3.10)\n",
            "Requirement already satisfied: urllib3<3,>=1.21.1 in /usr/local/lib/python3.11/dist-packages (from requests->transformers) (2.3.0)\n",
            "Requirement already satisfied: certifi>=2017.4.17 in /usr/local/lib/python3.11/dist-packages (from requests->transformers) (2025.1.31)\n"
          ]
        }
      ]
    },
    {
      "cell_type": "markdown",
      "source": [
        "2. Загрузка и использование предобученной модели для классификации текста\n",
        "(В этом примере мы загрузим предобученную модель для классификации текста и протестируем ее на простом примере.)"
      ],
      "metadata": {
        "id": "RvZLDgJ1PL6V"
      }
    },
    {
      "cell_type": "code",
      "source": [
        "from transformers import pipeline\n",
        "# Создаем пайплайн для классификации текста\n",
        "classifier = pipeline(\"sentiment-analysis\")\n",
        "# Тестовый текст\n",
        "text = \"Я люблю изучать новые технологии!\"\n",
        "# Получаем предсказание\n",
        "result = classifier(text)\n",
        "print(result)"
      ],
      "metadata": {
        "colab": {
          "base_uri": "https://localhost:8080/",
          "height": 339,
          "referenced_widgets": [
            "925aabc30d8744b597600c07b1f0d430",
            "7c58ea490c494c9595444520795c3b90",
            "102027d517814b9cadeaf463713e32b8",
            "8e1c1221d4a24666a0a218b85e5a37ca",
            "95842b05c41848eaa5114161107e2fa2",
            "8ceefe3493ff42ba900a04443340186a",
            "f80e90c917aa4f19b59c7ed56e8f2e44",
            "0451a75f3e204b50b239387fc4b41912",
            "f4675880500748ca81dcac9699c259f4",
            "81f5423ad5494ec1bfb47470a1aa5323",
            "ef0e1f120b004b89b27d945332c53621",
            "aba6f42e8b8943a68a84ce2ec3d6fb5a",
            "894ce6881c774f7f859f1a52d465828e",
            "1e28cae9d18a4f71954632502c46c388",
            "621dbe47f51e473895074250943f3452",
            "919df61f52484cda86dd7240dae1b0d6",
            "1ba1fff1f8444a60a483132dd2cea3cc",
            "2686e7f9719d4f65aa5cabeebdff590d",
            "3cd287ea6b5345e6843a3bda17bee487",
            "e2ecb784f65f4a6e81aec4bafc864697",
            "6216dbf808ec49f98a7f77435bd446b4",
            "f48211cdb9e744b692b1560eb042cdce",
            "aa6c190ac1f141ee90d7ac4d6dc45002",
            "ce6a4b93f2b940cfa49e68b207128baf",
            "9519e105414845c18e45c328570858a9",
            "99b0d02bcd2047e0a7e058ff592a6b8b",
            "cf5d060c7d874ee5ad126fdfa6bb78c9",
            "c86eba37f9ad4f2e8b090b830cd253f3",
            "419f150fa8744af99b5671c6c2a72267",
            "a09763bff838409c863fe1625e5c33b1",
            "7fbf2b041dd440268ccb179c8ee74a67",
            "ea535e8fc2c9449795d4d5ccd40bfdc3",
            "20199b8bc7f54f17804aae2d66586e02",
            "33a98ef6355f4af38c2d8087a5841e8f",
            "7e4410f1357c4aa486dd86e8044b0f96",
            "7f7278cc259b405b9f07ed6daf6de5ff",
            "83ee70b7088e46cf98954add0176014c",
            "391a68fb43f643db8ad0f08bbcfbf452",
            "e1ea45827ac44170ab54e17f43225dfc",
            "6ff544aedc644a67accfb84a36e261e8",
            "2a570efc181d48278048a05e116ae4af",
            "c0b4c3b7746f441c8f1117ebd1e03803",
            "1cbe31d11b1d4f9a833abb39873bc438",
            "6194cfe162944c8f9ef82a46fa2d433f"
          ]
        },
        "id": "Fy7fatMWPTf1",
        "outputId": "60c4373f-8581-49bb-9103-c1aa04d537b8"
      },
      "execution_count": null,
      "outputs": [
        {
          "output_type": "stream",
          "name": "stderr",
          "text": [
            "No model was supplied, defaulted to distilbert/distilbert-base-uncased-finetuned-sst-2-english and revision 714eb0f (https://huggingface.co/distilbert/distilbert-base-uncased-finetuned-sst-2-english).\n",
            "Using a pipeline without specifying a model name and revision in production is not recommended.\n",
            "/usr/local/lib/python3.11/dist-packages/huggingface_hub/utils/_auth.py:94: UserWarning: \n",
            "The secret `HF_TOKEN` does not exist in your Colab secrets.\n",
            "To authenticate with the Hugging Face Hub, create a token in your settings tab (https://huggingface.co/settings/tokens), set it as secret in your Google Colab and restart your session.\n",
            "You will be able to reuse this secret in all of your notebooks.\n",
            "Please note that authentication is recommended but still optional to access public models or datasets.\n",
            "  warnings.warn(\n"
          ]
        },
        {
          "output_type": "display_data",
          "data": {
            "text/plain": [
              "config.json:   0%|          | 0.00/629 [00:00<?, ?B/s]"
            ],
            "application/vnd.jupyter.widget-view+json": {
              "version_major": 2,
              "version_minor": 0,
              "model_id": "925aabc30d8744b597600c07b1f0d430"
            }
          },
          "metadata": {}
        },
        {
          "output_type": "display_data",
          "data": {
            "text/plain": [
              "model.safetensors:   0%|          | 0.00/268M [00:00<?, ?B/s]"
            ],
            "application/vnd.jupyter.widget-view+json": {
              "version_major": 2,
              "version_minor": 0,
              "model_id": "aba6f42e8b8943a68a84ce2ec3d6fb5a"
            }
          },
          "metadata": {}
        },
        {
          "output_type": "display_data",
          "data": {
            "text/plain": [
              "tokenizer_config.json:   0%|          | 0.00/48.0 [00:00<?, ?B/s]"
            ],
            "application/vnd.jupyter.widget-view+json": {
              "version_major": 2,
              "version_minor": 0,
              "model_id": "aa6c190ac1f141ee90d7ac4d6dc45002"
            }
          },
          "metadata": {}
        },
        {
          "output_type": "display_data",
          "data": {
            "text/plain": [
              "vocab.txt:   0%|          | 0.00/232k [00:00<?, ?B/s]"
            ],
            "application/vnd.jupyter.widget-view+json": {
              "version_major": 2,
              "version_minor": 0,
              "model_id": "33a98ef6355f4af38c2d8087a5841e8f"
            }
          },
          "metadata": {}
        },
        {
          "output_type": "stream",
          "name": "stderr",
          "text": [
            "Device set to use cpu\n"
          ]
        },
        {
          "output_type": "stream",
          "name": "stdout",
          "text": [
            "[{'label': 'POSITIVE', 'score': 0.9901295304298401}]\n"
          ]
        }
      ]
    },
    {
      "cell_type": "markdown",
      "source": [
        "3. Использование модели для генерации текста"
      ],
      "metadata": {
        "id": "st4RZAbEPbSt"
      }
    },
    {
      "cell_type": "code",
      "source": [
        "from transformers import pipeline\n",
        "# Создаем пайплайн для генерации текста\n",
        "generator = pipeline(\"text-generation\", model=\"gpt2\")\n",
        "# Начальный текст\n",
        "prompt = \"Сегодня прекрасный день\"\n",
        "# Генерируем текст\n",
        "generated_text = generator(prompt, max_length=50, num_return_sequences=1)\n",
        "print(generated_text[0]['generated_text'])"
      ],
      "metadata": {
        "colab": {
          "base_uri": "https://localhost:8080/"
        },
        "id": "KFDDPyEFPeCt",
        "outputId": "99f1bbb0-9565-4feb-ee3d-16932d697152"
      },
      "execution_count": null,
      "outputs": [
        {
          "output_type": "stream",
          "name": "stderr",
          "text": [
            "Device set to use cpu\n",
            "Truncation was not explicitly activated but `max_length` is provided a specific value, please use `truncation=True` to explicitly truncate examples to max length. Defaulting to 'longest_first' truncation strategy. If you encode pairs of sequences (GLUE-style) with the tokenizer you can select this strategy more precisely by providing a specific strategy to `truncation`.\n",
            "Setting `pad_token_id` to `eos_token_id`:50256 for open-end generation.\n"
          ]
        },
        {
          "output_type": "stream",
          "name": "stdout",
          "text": [
            "Сегодня прекрасный день мопредениентый вы прас\n"
          ]
        }
      ]
    },
    {
      "cell_type": "code",
      "source": [
        "from transformers import pipeline\n",
        "# Загружаем несколько моделей для сравнения\n",
        "model1 = pipeline(\"sentiment-analysis\", model=\"distilbert-base-uncased-finetuned-sst-2-english\")\n",
        "model2 = pipeline(\"sentiment-analysis\", model=\"nlptown/bert-base-multilingual-uncased-sentiment\")\n",
        "texts =[\"Я очень счастлив!\", \"Это ужасно!\"]\n",
        "# Получаем предсказания\n",
        "results_model1 = model1(texts)\n",
        "results_model2 = model2(texts)\n",
        "print(\"Model 1 Results:\", results_model1)\n",
        "print(\"Model 2 Results:\", results_model2)"
      ],
      "metadata": {
        "colab": {
          "base_uri": "https://localhost:8080/"
        },
        "id": "lEO2kPCVP9j1",
        "outputId": "5b4419c2-1e9d-4dd7-dd74-d02f9fa9a426"
      },
      "execution_count": null,
      "outputs": [
        {
          "output_type": "stream",
          "name": "stderr",
          "text": [
            "Device set to use cpu\n",
            "Device set to use cpu\n"
          ]
        },
        {
          "output_type": "stream",
          "name": "stdout",
          "text": [
            "Model 1 Results: [{'label': 'POSITIVE', 'score': 0.9765333533287048}, {'label': 'POSITIVE', 'score': 0.9940006136894226}]\n",
            "Model 2 Results: [{'label': '5 stars', 'score': 0.8441234827041626}, {'label': '1 star', 'score': 0.3897697329521179}]\n"
          ]
        }
      ]
    }
  ]
}